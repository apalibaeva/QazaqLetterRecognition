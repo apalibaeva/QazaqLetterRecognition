{
 "cells": [
  {
   "cell_type": "code",
   "execution_count": 2,
   "metadata": {},
   "outputs": [],
   "source": [
    "import math, time \n",
    "import matplotlib.pyplot as plt\n",
    "import numpy as np \n",
    "import pandas as pd\n",
    "from keras.preprocessing.image import ImageDataGenerator"
   ]
  },
  {
   "cell_type": "code",
   "execution_count": null,
   "metadata": {},
   "outputs": [],
   "source": [
    "train_path = r'./train_set/'\n",
    "test_path = r'./test_set/'\n",
    "\n",
    "train_batches = ImageDataGenerator(rescale=1./255,\n",
    "        shear_range=0.2,\n",
    "        zoom_range=0.2,\n",
    "        horizontal_flip=True).flow_from_directory(train_path,target_size=(28,28),\n",
    "                                   classes='ә,і,ң,ғ,ү,ұ,қ,ө,һ'.split(','))\n",
    "\n",
    "test_batches = ImageDataGenerator(rescale=1./255).flow_from_directory(test_path,target_size=(28,28),\n",
    "                                   classes='ә,і,ң,ғ,ү,ұ,қ,ө,һ'.split(','))"
   ]
  }
 ],
 "metadata": {
  "kernelspec": {
   "display_name": "Python 3",
   "language": "python",
   "name": "python3"
  },
  "language_info": {
   "codemirror_mode": {
    "name": "ipython",
    "version": 3
   },
   "file_extension": ".py",
   "mimetype": "text/x-python",
   "name": "python",
   "nbconvert_exporter": "python",
   "pygments_lexer": "ipython3",
   "version": "3.7.0"
  }
 },
 "nbformat": 4,
 "nbformat_minor": 2
}
